{
 "cells": [
  {
   "cell_type": "code",
   "execution_count": 1,
   "metadata": {
    "colab": {
     "base_uri": "https://localhost:8080/"
    },
    "executionInfo": {
     "elapsed": 27589,
     "status": "ok",
     "timestamp": 1690456132511,
     "user": {
      "displayName": "Jared Ratto",
      "userId": "11020709345009787206"
     },
     "user_tz": -60
    },
    "id": "2oDeyWdguN1_",
    "outputId": "5cd38011-2c2e-47ba-bbe7-268aa07bffe6"
   },
   "outputs": [
    {
     "ename": "ModuleNotFoundError",
     "evalue": "No module named 'google.colab'",
     "output_type": "error",
     "traceback": [
      "\u001b[0;31m---------------------------------------------------------------------------\u001b[0m",
      "\u001b[0;31mModuleNotFoundError\u001b[0m                       Traceback (most recent call last)",
      "Input \u001b[0;32mIn [1]\u001b[0m, in \u001b[0;36m<cell line: 1>\u001b[0;34m()\u001b[0m\n\u001b[0;32m----> 1\u001b[0m \u001b[38;5;28;01mfrom\u001b[39;00m \u001b[38;5;21;01mgoogle\u001b[39;00m\u001b[38;5;21;01m.\u001b[39;00m\u001b[38;5;21;01mcolab\u001b[39;00m \u001b[38;5;28;01mimport\u001b[39;00m drive\n\u001b[1;32m      2\u001b[0m drive\u001b[38;5;241m.\u001b[39mmount(\u001b[38;5;124m\"\u001b[39m\u001b[38;5;124mmnt\u001b[39m\u001b[38;5;124m\"\u001b[39m)\n\u001b[1;32m      4\u001b[0m get_ipython()\u001b[38;5;241m.\u001b[39mrun_line_magic(\u001b[38;5;124m'\u001b[39m\u001b[38;5;124mcd\u001b[39m\u001b[38;5;124m'\u001b[39m, \u001b[38;5;124m'\u001b[39m\u001b[38;5;124m\"\u001b[39m\u001b[38;5;124mmnt/My Drive/Colab Notebooks/adversarial_examples/results\u001b[39m\u001b[38;5;124m\"\u001b[39m\u001b[38;5;124m'\u001b[39m)\n",
      "\u001b[0;31mModuleNotFoundError\u001b[0m: No module named 'google.colab'"
     ]
    }
   ],
   "source": [
    "# from google.colab import drive\n",
    "# drive.mount(\"mnt\")\n",
    "\n",
    "# %cd \"mnt/My Drive/Colab Notebooks/adversarial_examples/results\"\n",
    "\n",
    "# !pip install import-ipynb\n",
    "# import import_ipynb"
   ]
  },
  {
   "cell_type": "code",
   "execution_count": 89,
   "metadata": {
    "executionInfo": {
     "elapsed": 347,
     "status": "ok",
     "timestamp": 1690456132855,
     "user": {
      "displayName": "Jared Ratto",
      "userId": "11020709345009787206"
     },
     "user_tz": -60
    },
    "id": "iR_QYbSfuhnm"
   },
   "outputs": [],
   "source": [
    "import pandas as pd\n",
    "import numpy as np\n",
    "import os\n",
    "from matplotlib import pyplot as plt\n",
    "import seaborn as sns"
   ]
  },
  {
   "cell_type": "markdown",
   "metadata": {
    "id": "F0z5tMXoBHZL"
   },
   "source": [
    "QC"
   ]
  },
  {
   "cell_type": "code",
   "execution_count": 1,
   "metadata": {
    "colab": {
     "base_uri": "https://localhost:8080/"
    },
    "executionInfo": {
     "elapsed": 236,
     "status": "ok",
     "timestamp": 1690456133087,
     "user": {
      "displayName": "Jared Ratto",
      "userId": "11020709345009787206"
     },
     "user_tz": -60
    },
    "id": "BBBjB07iBIeq",
    "outputId": "843d0c70-9d04-4604-b0d7-05abcd9e1cf8"
   },
   "outputs": [
    {
     "data": {
      "text/plain": [
       "'/Users/jaredratto/Library/CloudStorage/GoogleDrive-jared.ratto@gmail.com/My Drive/Colab Notebooks/adversarial_examples'"
      ]
     },
     "execution_count": 1,
     "metadata": {},
     "output_type": "execute_result"
    }
   ],
   "source": [
    "%pwd\n",
    "# %cd \"results\""
   ]
  },
  {
   "cell_type": "code",
   "execution_count": 63,
   "metadata": {
    "executionInfo": {
     "elapsed": 231,
     "status": "ok",
     "timestamp": 1690456333123,
     "user": {
      "displayName": "Jared Ratto",
      "userId": "11020709345009787206"
     },
     "user_tz": -60
    },
    "id": "Jq5XBIGoBkag"
   },
   "outputs": [],
   "source": [
    "temp_dict = np.load('0_10.npy',allow_pickle=True)\n",
    "temp_dict = np.expand_dims(temp_dict,axis=0)[0]"
   ]
  },
  {
   "cell_type": "code",
   "execution_count": 73,
   "metadata": {
    "colab": {
     "base_uri": "https://localhost:8080/"
    },
    "executionInfo": {
     "elapsed": 3,
     "status": "ok",
     "timestamp": 1690456478938,
     "user": {
      "displayName": "Jared Ratto",
      "userId": "11020709345009787206"
     },
     "user_tz": -60
    },
    "id": "dFsOWqjWCaSJ",
    "outputId": "f31324af-1662-4a82-fc75-b9a0cc8541dd"
   },
   "outputs": [
    {
     "name": "stdout",
     "output_type": "stream",
     "text": [
      "How many solutions in the global pareto front? 20\n",
      "What were the predicted lables? [4, 5, 5, 4, 4, 4, 4, 4, 4, 4, 2, 4, 8, 4, 4, 4, 9, 9, 9, 9]\n",
      "What was the true label? 0\n",
      "What were the l_0 norms? [554, 401, 317, 305, 271, 197, 170, 150, 148, 141, 136, 134, 124, 119, 118, 107, 102, 99, 96, 95]\n",
      "What were the l_inf norms? [0.04897884311947091, 0.05180344424882515, 0.05354178205812336, 0.06950695254482549, 0.07035657549769436, 0.08561226842646807, 0.0886305469913575, 0.11285592150800199, 0.14639348265530652, 0.16189450725494067, 0.1637691548183408, 0.20149687649428988, 0.21141788963473462, 0.21341997450951167, 0.21697658417907828, 0.22457844279797723, 0.28171084129849366, 0.3405610259736322, 0.3563692817480328, 0.39521865752952057]\n"
     ]
    }
   ],
   "source": [
    "print(\"How many solutions in the global pareto front?\",len(temp_dict[\"adversarial_labels\"]))\n",
    "print(\"What were the predicted lables?\",temp_dict[\"adversarial_labels\"])\n",
    "print(\"What was the true label?\",temp_dict[\"true_label\"])\n",
    "\n",
    "l0_temp_list = []\n",
    "linf_temp_list = []\n",
    "for i in temp_dict['front0_fitness']:\n",
    "  l0_temp_list.append(i[1])\n",
    "  linf_temp_list.append(i[2][0])\n",
    "print(\"What were the l_0 norms?\",l0_temp_list)\n",
    "print(\"What were the l_inf norms?\",linf_temp_list)"
   ]
  },
  {
   "cell_type": "code",
   "execution_count": 66,
   "metadata": {
    "scrolled": false
   },
   "outputs": [
    {
     "data": {
      "image/png": "[encoded data removed]",
      "text/plain": [
       "<Figure size 108x108 with 1 Axes>"
      ]
     },
     "metadata": {
      "needs_background": "light"
     },
     "output_type": "display_data"
    }
   ],
   "source": [
    "not_sparse_img = temp_dict['front0_imgs'][-1]\n",
    "fig, ax = plt.subplots(figsize=(1.5, 1.5))\n",
    "ax.imshow(not_sparse_img, interpolation='nearest')\n",
    "plt.tight_layout()"
   ]
  },
  {
   "cell_type": "code",
   "execution_count": 156,
   "metadata": {},
   "outputs": [],
   "source": [
    "l0_temp_list[0]\n",
    "linf_temp_list[0]\n",
    "class_dictionary = {0:\"Airplane\",\n",
    "                   1:\"car\",\n",
    "                   2:\"bird\",\n",
    "                   3:\"cat\",\n",
    "                   4:\"deer\",\n",
    "                   5:\"dog\",\n",
    "                   6:\"frog\",\n",
    "                   7:\"horse\",\n",
    "                   8:\"ship\",\n",
    "                   9:\"truck\"}\n",
    "temp_dict[\"adversarial_labels\"]\n",
    "class_list = []\n",
    "for i in temp_dict[\"adversarial_labels\"]:\n",
    "    class_list.append(class_dictionary[i])"
   ]
  },
  {
   "cell_type": "code",
   "execution_count": 157,
   "metadata": {},
   "outputs": [
    {
     "data": {
      "text/plain": [
       "['deer',\n",
       " 'dog',\n",
       " 'dog',\n",
       " 'deer',\n",
       " 'deer',\n",
       " 'deer',\n",
       " 'deer',\n",
       " 'deer',\n",
       " 'deer',\n",
       " 'deer',\n",
       " 'bird',\n",
       " 'deer',\n",
       " 'ship',\n",
       " 'deer',\n",
       " 'deer',\n",
       " 'deer',\n",
       " 'truck',\n",
       " 'truck',\n",
       " 'truck',\n",
       " 'truck']"
      ]
     },
     "execution_count": 157,
     "metadata": {},
     "output_type": "execute_result"
    }
   ],
   "source": [
    "class_list"
   ]
  },
  {
   "cell_type": "code",
   "execution_count": 158,
   "metadata": {
    "scrolled": true
   },
   "outputs": [
    {
     "data": {
      "image/png": "[encoded data removed]",
      "text/plain": [
       "<Figure size 1440x288 with 20 Axes>"
      ]
     },
     "metadata": {},
     "output_type": "display_data"
    }
   ],
   "source": [
    "fig, ax = plt.subplots(2, 10, figsize=(20, 4))\n",
    "ax[0,0].imshow(temp_dict['front0_imgs'][0], interpolation='nearest')\n",
    "ax[0,0].set_title(class_list[0])\n",
    "ax[0,0].set_xlabel(\"{l0} pixels {linf} intensity\".format(l0 = l0_temp_list[0],linf = round(linf_temp_list[0],3)))\n",
    "ax[0,1].imshow(temp_dict['front0_imgs'][1], interpolation='nearest')\n",
    "ax[0,1].set_title(class_list[1])\n",
    "ax[0,1].set_xlabel(\"{l0} pixels {linf} intensity\".format(l0 = l0_temp_list[1],linf = round(linf_temp_list[1],3)))\n",
    "ax[0,2].imshow(temp_dict['front0_imgs'][2], interpolation='nearest')\n",
    "ax[0,2].set_title(class_list[2])\n",
    "ax[0,2].set_xlabel(\"{l0} pixels {linf} intensity\".format(l0 = l0_temp_list[2],linf = round(linf_temp_list[2],3)))\n",
    "ax[0,3].imshow(temp_dict['front0_imgs'][3], interpolation='nearest')\n",
    "ax[0,3].set_title(class_list[3])\n",
    "ax[0,3].set_xlabel(\"{l0} pixels {linf} intensity\".format(l0 = l0_temp_list[3],linf = round(linf_temp_list[3],3)))\n",
    "ax[0,4].imshow(temp_dict['front0_imgs'][4], interpolation='nearest')\n",
    "ax[0,4].set_title(class_list[4])\n",
    "ax[0,4].set_xlabel(\"{l0} pixels {linf} intensity\".format(l0 = l0_temp_list[4],linf = round(linf_temp_list[4],3)))\n",
    "ax[0,5].imshow(temp_dict['front0_imgs'][5], interpolation='nearest')\n",
    "ax[0,5].set_title(class_list[5])\n",
    "ax[0,5].set_xlabel(\"{l0} pixels {linf} intensity\".format(l0 = l0_temp_list[5],linf = round(linf_temp_list[5],3)))\n",
    "ax[0,6].imshow(temp_dict['front0_imgs'][6], interpolation='nearest')\n",
    "ax[0,6].set_title(class_list[6])\n",
    "ax[0,6].set_xlabel(\"{l0} pixels {linf} intensity\".format(l0 = l0_temp_list[6],linf = round(linf_temp_list[6],3)))\n",
    "ax[0,7].imshow(temp_dict['front0_imgs'][7], interpolation='nearest')\n",
    "ax[0,7].set_title(class_list[7])\n",
    "ax[0,7].set_xlabel(\"{l0} pixels {linf} intensity\".format(l0 = l0_temp_list[7],linf = round(linf_temp_list[7],3)))\n",
    "ax[0,8].imshow(temp_dict['front0_imgs'][8], interpolation='nearest')\n",
    "ax[0,8].set_title(class_list[8])\n",
    "ax[0,8].set_xlabel(\"{l0} pixels {linf} intensity\".format(l0 = l0_temp_list[8],linf = round(linf_temp_list[8],3)))\n",
    "ax[0,9].imshow(temp_dict['front0_imgs'][9], interpolation='nearest')\n",
    "ax[0,9].set_title(class_list[9])\n",
    "ax[0,9].set_xlabel(\"{l0} pixels {linf} intensity\".format(l0 = l0_temp_list[9],linf = round(linf_temp_list[9],3)))\n",
    "\n",
    "ax[1,0].imshow(temp_dict['front0_imgs'][10], interpolation='nearest')\n",
    "ax[1,0].set_title(class_list[10])\n",
    "ax[1,0].set_xlabel(\"{l0} pixels {linf} intensity\".format(l0 = l0_temp_list[10],linf = round(linf_temp_list[10],3)))\n",
    "ax[1,1].imshow(temp_dict['front0_imgs'][11], interpolation='nearest')\n",
    "ax[1,1].set_title(class_list[11])\n",
    "ax[1,1].set_xlabel(\"{l0} pixels {linf} intensity\".format(l0 = l0_temp_list[11],linf = round(linf_temp_list[11],3)))\n",
    "ax[1,2].imshow(temp_dict['front0_imgs'][12], interpolation='nearest')\n",
    "ax[1,2].set_title(class_list[12])\n",
    "ax[1,2].set_xlabel(\"{l0} pixels {linf} intensity\".format(l0 = l0_temp_list[12],linf = round(linf_temp_list[12],3)))\n",
    "ax[1,3].imshow(temp_dict['front0_imgs'][13], interpolation='nearest')\n",
    "ax[1,3].set_title(class_list[13])\n",
    "ax[1,3].set_xlabel(\"{l0} pixels {linf} intensity\".format(l0 = l0_temp_list[13],linf = round(linf_temp_list[13],3)))\n",
    "ax[1,4].imshow(temp_dict['front0_imgs'][14], interpolation='nearest')\n",
    "ax[1,4].set_title(class_list[14])\n",
    "ax[1,4].set_xlabel(\"{l0} pixels {linf} intensity\".format(l0 = l0_temp_list[14],linf = round(linf_temp_list[14],3)))\n",
    "ax[1,5].imshow(temp_dict['front0_imgs'][15], interpolation='nearest')\n",
    "ax[1,5].set_title(class_list[15])\n",
    "ax[1,5].set_xlabel(\"{l0} pixels {linf} intensity\".format(l0 = l0_temp_list[15],linf = round(linf_temp_list[15],3)))\n",
    "ax[1,6].imshow(temp_dict['front0_imgs'][16], interpolation='nearest')\n",
    "ax[1,6].set_title(class_list[16])\n",
    "ax[1,6].set_xlabel(\"{l0} pixels {linf} intensity\".format(l0 = l0_temp_list[16],linf = round(linf_temp_list[16],3)))\n",
    "ax[1,7].imshow(temp_dict['front0_imgs'][17], interpolation='nearest')\n",
    "ax[1,7].set_title(class_list[17])\n",
    "ax[1,7].set_xlabel(\"{l0} pixels {linf} intensity\".format(l0 = l0_temp_list[17],linf = round(linf_temp_list[17],3)))\n",
    "ax[1,8].imshow(temp_dict['front0_imgs'][18], interpolation='nearest')\n",
    "ax[1,8].set_title(class_list[18])\n",
    "ax[1,8].set_xlabel(\"{l0} pixels {linf} intensity\".format(l0 = l0_temp_list[18],linf = round(linf_temp_list[18],3)))\n",
    "ax[1,9].imshow(temp_dict['front0_imgs'][19], interpolation='nearest')\n",
    "ax[1,9].set_title(class_list[19])\n",
    "ax[1,9].set_xlabel(\"{l0} pixels {linf} intensity\".format(l0 = l0_temp_list[19],linf = round(linf_temp_list[19],3)))\n",
    "\n",
    "fig.suptitle(\"Original Class: Airplane\", fontsize=25)\n",
    "\n",
    "plt.tight_layout()"
   ]
  },
  {
   "cell_type": "code",
   "execution_count": 130,
   "metadata": {},
   "outputs": [
    {
     "data": {
      "image/png": "[encoded data removed]",
      "text/plain": [
       "<Figure size 432x288 with 1 Axes>"
      ]
     },
     "metadata": {},
     "output_type": "display_data"
    }
   ],
   "source": [
    "# Plot a pareto front. Make the plot pretty!\n",
    "\n",
    "# sns.set_theme(style=\"whitegrid\") Ok no sns theme\n",
    "\n",
    "# I need to normalize the l_0 norm list\n",
    "l0_array = np.asarray(l0_temp_list)\n",
    "linf_array = np.asarray(linf_temp_list)\n",
    "l0_array = l0_array/1024\n",
    "\n",
    "plt.scatter(linf_array,l0_array,color=\"orangered\")\n",
    "plt.xlim(0,0.6)\n",
    "plt.ylim(0,0.6)\n",
    "\n",
    "plt.xlabel(r'$\\ell_\\infty- norm$',labelpad=20,size=16)\n",
    "plt.ylabel(r'$\\ell_0- norm$',labelpad=20,size=16)\n",
    "\n",
    "plt.title(\"Pareto Front\",pad=15,size=20)\n",
    "\n",
    "plt.show()"
   ]
  },
  {
   "cell_type": "markdown",
   "metadata": {
    "id": "wR78oNnE4Cqn"
   },
   "source": [
    "ImageNet -- MobileNetv2"
   ]
  },
  {
   "cell_type": "code",
   "execution_count": null,
   "metadata": {
    "colab": {
     "base_uri": "https://localhost:8080/"
    },
    "executionInfo": {
     "elapsed": 13,
     "status": "ok",
     "timestamp": 1690289906915,
     "user": {
      "displayName": "Jared Ratto",
      "userId": "11020709345009787206"
     },
     "user_tz": -60
    },
    "id": "9sH7M4-M4Ig2",
    "outputId": "5e7e67c5-378f-410c-cb44-56ac98182d76"
   },
   "outputs": [
    {
     "name": "stdout",
     "output_type": "stream",
     "text": [
      "/content/mnt/My Drive/Colab Notebooks/adversarial_examples/results/ImageNet\n"
     ]
    }
   ],
   "source": [
    "# %cd \"CIFAR10\"\n",
    "%cd \"ImageNet\""
   ]
  },
  {
   "cell_type": "code",
   "execution_count": null,
   "metadata": {
    "colab": {
     "base_uri": "https://localhost:8080/"
    },
    "executionInfo": {
     "elapsed": 1642,
     "status": "ok",
     "timestamp": 1690289969752,
     "user": {
      "displayName": "Jared Ratto",
      "userId": "11020709345009787206"
     },
     "user_tz": -60
    },
    "id": "HWMvNgk-IPBt",
    "outputId": "59f2e1e5-8f4a-4eba-c9f7-7f161d3655b8"
   },
   "outputs": [
    {
     "data": {
      "text/plain": [
       "[818, 818, 818, 818, 818]"
      ]
     },
     "execution_count": 6,
     "metadata": {},
     "output_type": "execute_result"
    }
   ],
   "source": [
    "temp_dict = np.load('394_0.npy',allow_pickle=True)\n",
    "temp_dict = np.expand_dims(temp_dict,axis=0)[0]\n",
    "temp_dict[\"adversarial_labels\"]"
   ]
  },
  {
   "cell_type": "code",
   "execution_count": null,
   "metadata": {
    "id": "8_PdBEhE4M-k"
   },
   "outputs": [],
   "source": [
    "file_names = []\n",
    "adversarial = []\n",
    "pareto_sol_count = []\n",
    "smallest_l0 = []\n",
    "biggest_l0 = []\n",
    "smallest_linf = []\n",
    "biggest_linf = []\n",
    "\n",
    "for i in os.listdir():\n",
    "  file_names.append(i)\n",
    "\n",
    "  temp_dict = np.load(i,allow_pickle=True)\n",
    "  temp_dict = np.expand_dims(temp_dict,axis=0)[0]\n",
    "\n",
    "  adversarial.append(any(temp_dict['success_rate']))\n",
    "\n",
    "  pareto_sol_count.append(len(temp_dict['front0_fitness']))\n",
    "\n",
    "  l0_temp_list = []\n",
    "  linf_temp_list = []\n",
    "  for i in temp_dict['front0_fitness']:\n",
    "    l0_temp_list.append(i[1])\n",
    "    linf_temp_list.append(i[2])\n",
    "  smallest_l0.append(min(l0_temp_list))\n",
    "  biggest_l0.append(max(l0_temp_list))\n",
    "  smallest_linf.append(min(linf_temp_list)[0])\n",
    "  biggest_linf.append(max(linf_temp_list)[0])"
   ]
  },
  {
   "cell_type": "code",
   "execution_count": null,
   "metadata": {
    "colab": {
     "base_uri": "https://localhost:8080/"
    },
    "executionInfo": {
     "elapsed": 3,
     "status": "ok",
     "timestamp": 1690285729702,
     "user": {
      "displayName": "Jared Ratto",
      "userId": "11020709345009787206"
     },
     "user_tz": -60
    },
    "id": "tnujoHko4PeX",
    "outputId": "03d8fd8b-583a-46e5-b248-ef0fb4f2433d"
   },
   "outputs": [
    {
     "name": "stdout",
     "output_type": "stream",
     "text": [
      "3 3 3 3 3 3 3\n"
     ]
    }
   ],
   "source": [
    "print(len(file_names),len(adversarial),len(pareto_sol_count),len(smallest_l0),len(biggest_l0),len(smallest_linf),len(biggest_linf))"
   ]
  },
  {
   "cell_type": "code",
   "execution_count": null,
   "metadata": {
    "id": "80sb_QT-4Qaq"
   },
   "outputs": [],
   "source": [
    "pd_dict = {\"file_names\":file_names,\n",
    "           \"adversarial\":adversarial,\n",
    "           \"pareto_sol_count\":pareto_sol_count,\n",
    "           \"smallest_l0\":smallest_l0,\n",
    "           \"biggest_l0\":biggest_l0,\n",
    "           \"smallest_linf\":smallest_linf,\n",
    "           \"biggest_linf\":biggest_linf}\n",
    "\n",
    "results_df = pd.DataFrame(pd_dict)\n",
    "results_df = results_df.set_index(\"file_names\")"
   ]
  },
  {
   "cell_type": "code",
   "execution_count": null,
   "metadata": {
    "colab": {
     "base_uri": "https://localhost:8080/",
     "height": 175
    },
    "executionInfo": {
     "elapsed": 9,
     "status": "ok",
     "timestamp": 1690285734122,
     "user": {
      "displayName": "Jared Ratto",
      "userId": "11020709345009787206"
     },
     "user_tz": -60
    },
    "id": "mPFLQ6sq4UUV",
    "outputId": "9a9778f7-9272-4d4d-ea9d-d830e3d27354"
   },
   "outputs": [
    {
     "data": {
      "text/html": [
       "\n",
       "\n",
       "  <div id=\"df-225a2535-938b-4332-8140-8d75dfc525f6\">\n",
       "    <div class=\"colab-df-container\">\n",
       "      <div>\n",
       "<style scoped>\n",
       "    .dataframe tbody tr th:only-of-type {\n",
       "        vertical-align: middle;\n",
       "    }\n",
       "\n",
       "    .dataframe tbody tr th {\n",
       "        vertical-align: top;\n",
       "    }\n",
       "\n",
       "    .dataframe thead th {\n",
       "        text-align: right;\n",
       "    }\n",
       "</style>\n",
       "<table border=\"1\" class=\"dataframe\">\n",
       "  <thead>\n",
       "    <tr style=\"text-align: right;\">\n",
       "      <th></th>\n",
       "      <th>adversarial</th>\n",
       "      <th>pareto_sol_count</th>\n",
       "      <th>smallest_l0</th>\n",
       "      <th>biggest_l0</th>\n",
       "      <th>smallest_linf</th>\n",
       "      <th>biggest_linf</th>\n",
       "    </tr>\n",
       "    <tr>\n",
       "      <th>file_names</th>\n",
       "      <th></th>\n",
       "      <th></th>\n",
       "      <th></th>\n",
       "      <th></th>\n",
       "      <th></th>\n",
       "      <th></th>\n",
       "    </tr>\n",
       "  </thead>\n",
       "  <tbody>\n",
       "    <tr>\n",
       "      <th>394_0.npy</th>\n",
       "      <td>True</td>\n",
       "      <td>5</td>\n",
       "      <td>1211</td>\n",
       "      <td>1220</td>\n",
       "      <td>0.0</td>\n",
       "      <td>0.005483</td>\n",
       "    </tr>\n",
       "    <tr>\n",
       "      <th>777_1.npy</th>\n",
       "      <td>True</td>\n",
       "      <td>1</td>\n",
       "      <td>1211</td>\n",
       "      <td>1211</td>\n",
       "      <td>0.0</td>\n",
       "      <td>0.000000</td>\n",
       "    </tr>\n",
       "    <tr>\n",
       "      <th>913_2.npy</th>\n",
       "      <td>True</td>\n",
       "      <td>3</td>\n",
       "      <td>1209</td>\n",
       "      <td>1214</td>\n",
       "      <td>0.0</td>\n",
       "      <td>0.000001</td>\n",
       "    </tr>\n",
       "  </tbody>\n",
       "</table>\n",
       "</div>\n",
       "      <button class=\"colab-df-convert\" onclick=\"convertToInteractive('df-225a2535-938b-4332-8140-8d75dfc525f6')\"\n",
       "              title=\"Convert this dataframe to an interactive table.\"\n",
       "              style=\"display:none;\">\n",
       "\n",
       "  <svg xmlns=\"http://www.w3.org/2000/svg\" height=\"24px\"viewBox=\"0 0 24 24\"\n",
       "       width=\"24px\">\n",
       "    <path d=\"M0 0h24v24H0V0z\" fill=\"none\"/>\n",
       "    <path d=\"M18.56 5.44l.94 2.06.94-2.06 2.06-.94-2.06-.94-.94-2.06-.94 2.06-2.06.94zm-11 1L8.5 8.5l.94-2.06 2.06-.94-2.06-.94L8.5 2.5l-.94 2.06-2.06.94zm10 10l.94 2.06.94-2.06 2.06-.94-2.06-.94-.94-2.06-.94 2.06-2.06.94z\"/><path d=\"M17.41 7.96l-1.37-1.37c-.4-.4-.92-.59-1.43-.59-.52 0-1.04.2-1.43.59L10.3 9.45l-7.72 7.72c-.78.78-.78 2.05 0 2.83L4 21.41c.39.39.9.59 1.41.59.51 0 1.02-.2 1.41-.59l7.78-7.78 2.81-2.81c.8-.78.8-2.07 0-2.86zM5.41 20L4 18.59l7.72-7.72 1.47 1.35L5.41 20z\"/>\n",
       "  </svg>\n",
       "      </button>\n",
       "\n",
       "\n",
       "\n",
       "    <div id=\"df-ee53ea5e-3ea8-4ec3-9207-7ba6db13b6ae\">\n",
       "      <button class=\"colab-df-quickchart\" onclick=\"quickchart('df-ee53ea5e-3ea8-4ec3-9207-7ba6db13b6ae')\"\n",
       "              title=\"Suggest charts.\"\n",
       "              style=\"display:none;\">\n",
       "\n",
       "<svg xmlns=\"http://www.w3.org/2000/svg\" height=\"24px\"viewBox=\"0 0 24 24\"\n",
       "     width=\"24px\">\n",
       "    <g>\n",
       "        <path d=\"M19 3H5c-1.1 0-2 .9-2 2v14c0 1.1.9 2 2 2h14c1.1 0 2-.9 2-2V5c0-1.1-.9-2-2-2zM9 17H7v-7h2v7zm4 0h-2V7h2v10zm4 0h-2v-4h2v4z\"/>\n",
       "    </g>\n",
       "</svg>\n",
       "      </button>\n",
       "    </div>\n",
       "\n",
       "<style>\n",
       "  .colab-df-quickchart {\n",
       "    background-color: #E8F0FE;\n",
       "    border: none;\n",
       "    border-radius: 50%;\n",
       "    cursor: pointer;\n",
       "    display: none;\n",
       "    fill: #1967D2;\n",
       "    height: 32px;\n",
       "    padding: 0 0 0 0;\n",
       "    width: 32px;\n",
       "  }\n",
       "\n",
       "  .colab-df-quickchart:hover {\n",
       "    background-color: #E2EBFA;\n",
       "    box-shadow: 0px 1px 2px rgba(60, 64, 67, 0.3), 0px 1px 3px 1px rgba(60, 64, 67, 0.15);\n",
       "    fill: #174EA6;\n",
       "  }\n",
       "\n",
       "  [theme=dark] .colab-df-quickchart {\n",
       "    background-color: #3B4455;\n",
       "    fill: #D2E3FC;\n",
       "  }\n",
       "\n",
       "  [theme=dark] .colab-df-quickchart:hover {\n",
       "    background-color: #434B5C;\n",
       "    box-shadow: 0px 1px 3px 1px rgba(0, 0, 0, 0.15);\n",
       "    filter: drop-shadow(0px 1px 2px rgba(0, 0, 0, 0.3));\n",
       "    fill: #FFFFFF;\n",
       "  }\n",
       "</style>\n",
       "\n",
       "    <script>\n",
       "      async function quickchart(key) {\n",
       "        const containerElement = document.querySelector('#' + key);\n",
       "        const charts = await google.colab.kernel.invokeFunction(\n",
       "            'suggestCharts', [key], {});\n",
       "      }\n",
       "    </script>\n",
       "\n",
       "      <script>\n",
       "\n",
       "function displayQuickchartButton(domScope) {\n",
       "  let quickchartButtonEl =\n",
       "    domScope.querySelector('#df-ee53ea5e-3ea8-4ec3-9207-7ba6db13b6ae button.colab-df-quickchart');\n",
       "  quickchartButtonEl.style.display =\n",
       "    google.colab.kernel.accessAllowed ? 'block' : 'none';\n",
       "}\n",
       "\n",
       "        displayQuickchartButton(document);\n",
       "      </script>\n",
       "      <style>\n",
       "    .colab-df-container {\n",
       "      display:flex;\n",
       "      flex-wrap:wrap;\n",
       "      gap: 12px;\n",
       "    }\n",
       "\n",
       "    .colab-df-convert {\n",
       "      background-color: #E8F0FE;\n",
       "      border: none;\n",
       "      border-radius: 50%;\n",
       "      cursor: pointer;\n",
       "      display: none;\n",
       "      fill: #1967D2;\n",
       "      height: 32px;\n",
       "      padding: 0 0 0 0;\n",
       "      width: 32px;\n",
       "    }\n",
       "\n",
       "    .colab-df-convert:hover {\n",
       "      background-color: #E2EBFA;\n",
       "      box-shadow: 0px 1px 2px rgba(60, 64, 67, 0.3), 0px 1px 3px 1px rgba(60, 64, 67, 0.15);\n",
       "      fill: #174EA6;\n",
       "    }\n",
       "\n",
       "    [theme=dark] .colab-df-convert {\n",
       "      background-color: #3B4455;\n",
       "      fill: #D2E3FC;\n",
       "    }\n",
       "\n",
       "    [theme=dark] .colab-df-convert:hover {\n",
       "      background-color: #434B5C;\n",
       "      box-shadow: 0px 1px 3px 1px rgba(0, 0, 0, 0.15);\n",
       "      filter: drop-shadow(0px 1px 2px rgba(0, 0, 0, 0.3));\n",
       "      fill: #FFFFFF;\n",
       "    }\n",
       "  </style>\n",
       "\n",
       "      <script>\n",
       "        const buttonEl =\n",
       "          document.querySelector('#df-225a2535-938b-4332-8140-8d75dfc525f6 button.colab-df-convert');\n",
       "        buttonEl.style.display =\n",
       "          google.colab.kernel.accessAllowed ? 'block' : 'none';\n",
       "\n",
       "        async function convertToInteractive(key) {\n",
       "          const element = document.querySelector('#df-225a2535-938b-4332-8140-8d75dfc525f6');\n",
       "          const dataTable =\n",
       "            await google.colab.kernel.invokeFunction('convertToInteractive',\n",
       "                                                     [key], {});\n",
       "          if (!dataTable) return;\n",
       "\n",
       "          const docLinkHtml = 'Like what you see? Visit the ' +\n",
       "            '<a target=\"_blank\" href=https://colab.research.google.com/notebooks/data_table.ipynb>data table notebook</a>'\n",
       "            + ' to learn more about interactive tables.';\n",
       "          element.innerHTML = '';\n",
       "          dataTable['output_type'] = 'display_data';\n",
       "          await google.colab.output.renderOutput(dataTable, element);\n",
       "          const docLink = document.createElement('div');\n",
       "          docLink.innerHTML = docLinkHtml;\n",
       "          element.appendChild(docLink);\n",
       "        }\n",
       "      </script>\n",
       "    </div>\n",
       "  </div>\n"
      ],
      "text/plain": [
       "            adversarial  pareto_sol_count  smallest_l0  biggest_l0  \\\n",
       "file_names                                                           \n",
       "394_0.npy          True                 5         1211        1220   \n",
       "777_1.npy          True                 1         1211        1211   \n",
       "913_2.npy          True                 3         1209        1214   \n",
       "\n",
       "            smallest_linf  biggest_linf  \n",
       "file_names                               \n",
       "394_0.npy             0.0      0.005483  \n",
       "777_1.npy             0.0      0.000000  \n",
       "913_2.npy             0.0      0.000001  "
      ]
     },
     "execution_count": 7,
     "metadata": {},
     "output_type": "execute_result"
    }
   ],
   "source": [
    "results_df"
   ]
  },
  {
   "cell_type": "code",
   "execution_count": null,
   "metadata": {
    "colab": {
     "base_uri": "https://localhost:8080/"
    },
    "executionInfo": {
     "elapsed": 173,
     "status": "ok",
     "timestamp": 1690286192837,
     "user": {
      "displayName": "Jared Ratto",
      "userId": "11020709345009787206"
     },
     "user_tz": -60
    },
    "id": "TKfnjVl75GBy",
    "outputId": "28766266-3a7c-4754-f484-565fd2560de5"
   },
   "outputs": [
    {
     "data": {
      "text/plain": [
       "['394_0.npy', '777_1.npy', '913_2.npy']"
      ]
     },
     "execution_count": 8,
     "metadata": {},
     "output_type": "execute_result"
    }
   ],
   "source": [
    "# Test this out. Is this adversarial?\n",
    "os.listdir()"
   ]
  },
  {
   "cell_type": "code",
   "execution_count": null,
   "metadata": {
    "id": "lQJl359l5IZt"
   },
   "outputs": [],
   "source": [
    "temp_dict = np.load('913_2.npy',allow_pickle=True)\n",
    "temp_dict = np.expand_dims(temp_dict,axis=0)[0]"
   ]
  },
  {
   "cell_type": "code",
   "execution_count": null,
   "metadata": {
    "id": "23E_FmYI66Oo"
   },
   "outputs": [],
   "source": [
    "from tensorflow.keras.applications import MobileNetV2\n",
    "from tensorflow.keras.preprocessing import image\n",
    "from tensorflow.keras.applications.mobilenet_v2 import preprocess_input, decode_predictions\n",
    "import numpy as np"
   ]
  },
  {
   "cell_type": "code",
   "execution_count": null,
   "metadata": {
    "id": "jm8th7yK6KJa"
   },
   "outputs": [],
   "source": [
    "temp_dict['front0_imgs'][0].shape\n",
    "test_image = temp_dict['front0_imgs'][0]\n",
    "# the true class is 394"
   ]
  },
  {
   "cell_type": "code",
   "execution_count": null,
   "metadata": {
    "colab": {
     "base_uri": "https://localhost:8080/"
    },
    "executionInfo": {
     "elapsed": 2828,
     "status": "ok",
     "timestamp": 1690287475640,
     "user": {
      "displayName": "Jared Ratto",
      "userId": "11020709345009787206"
     },
     "user_tz": -60
    },
    "id": "-TRJmS9R7JHQ",
    "outputId": "fd001919-f9ab-4240-fbee-b133b3cb5509"
   },
   "outputs": [
    {
     "name": "stderr",
     "output_type": "stream",
     "text": [
      "WARNING:tensorflow:5 out of the last 5 calls to <function Model.make_predict_function.<locals>.predict_function at 0x7ba7aec24040> triggered tf.function retracing. Tracing is expensive and the excessive number of tracings could be due to (1) creating @tf.function repeatedly in a loop, (2) passing tensors with different shapes, (3) passing Python objects instead of tensors. For (1), please define your @tf.function outside of the loop. For (2), @tf.function has reduce_retracing=True option that can avoid unnecessary retracing. For (3), please refer to https://www.tensorflow.org/guide/function#controlling_retracing and https://www.tensorflow.org/api_docs/python/tf/function for  more details.\n"
     ]
    },
    {
     "name": "stdout",
     "output_type": "stream",
     "text": [
      "1/1 [==============================] - 1s 941ms/step\n",
      " \n",
      "818\n"
     ]
    }
   ],
   "source": [
    "# 394 has become 818\n",
    "# and 777 has become 818???\n",
    "# and so has 913. That's not good\n",
    "model = MobileNetV2(weights='imagenet')\n",
    "x = image.img_to_array(test_image)\n",
    "x = np.expand_dims(x, axis=0)\n",
    "x = preprocess_input(x)\n",
    "preds = model.predict(x)\n",
    "print(\" \")\n",
    "print(np.argmax(preds.flatten()))"
   ]
  },
  {
   "cell_type": "code",
   "execution_count": null,
   "metadata": {
    "id": "LUQfNj_Q7hAc"
   },
   "outputs": [],
   "source": [
    "imported_npy = np.load(\"mobilenetv2_images.npy\",allow_pickle=True)\n",
    "imported_npy = np.expand_dims(imported_npy,axis=0)[0]\n",
    "experiment_images = imported_npy[\"images\"]\n",
    "experiment_classes = imported_npy[\"classes\"]"
   ]
  },
  {
   "cell_type": "code",
   "execution_count": null,
   "metadata": {
    "colab": {
     "base_uri": "https://localhost:8080/",
     "height": 240
    },
    "executionInfo": {
     "elapsed": 4,
     "status": "error",
     "timestamp": 1690287071696,
     "user": {
      "displayName": "Jared Ratto",
      "userId": "11020709345009787206"
     },
     "user_tz": -60
    },
    "id": "sVbj8TPs8AGm",
    "outputId": "8afbab80-f3b8-4e6b-a6b2-bc5c31cb8202"
   },
   "outputs": [
    {
     "ename": "ValueError",
     "evalue": "ignored",
     "output_type": "error",
     "traceback": [
      "\u001b[0;31m---------------------------------------------------------------------------\u001b[0m",
      "\u001b[0;31mValueError\u001b[0m                                Traceback (most recent call last)",
      "\u001b[0;32m<ipython-input-28-0e38f6ad9de3>\u001b[0m in \u001b[0;36m<cell line: 5>\u001b[0;34m()\u001b[0m\n\u001b[1;32m      3\u001b[0m \u001b[0;34m\u001b[0m\u001b[0m\n\u001b[1;32m      4\u001b[0m \u001b[0mx\u001b[0m \u001b[0;34m=\u001b[0m \u001b[0mimage\u001b[0m\u001b[0;34m.\u001b[0m\u001b[0mimg_to_array\u001b[0m\u001b[0;34m(\u001b[0m\u001b[0moriginal_image\u001b[0m\u001b[0;34m)\u001b[0m\u001b[0;34m\u001b[0m\u001b[0;34m\u001b[0m\u001b[0m\n\u001b[0;32m----> 5\u001b[0;31m \u001b[0mx\u001b[0m\u001b[0;34m.\u001b[0m\u001b[0mflags\u001b[0m\u001b[0;34m[\u001b[0m\u001b[0;34m'WRITEABLE'\u001b[0m\u001b[0;34m]\u001b[0m \u001b[0;34m=\u001b[0m \u001b[0;32mTrue\u001b[0m\u001b[0;34m\u001b[0m\u001b[0;34m\u001b[0m\u001b[0m\n\u001b[0m\u001b[1;32m      6\u001b[0m \u001b[0;31m# x = np.expand_dims(x, axis=0)\u001b[0m\u001b[0;34m\u001b[0m\u001b[0;34m\u001b[0m\u001b[0m\n\u001b[1;32m      7\u001b[0m \u001b[0;31m# x = preprocess_input(x)\u001b[0m\u001b[0;34m\u001b[0m\u001b[0;34m\u001b[0m\u001b[0m\n",
      "\u001b[0;31mValueError\u001b[0m: cannot set WRITEABLE flag to True of this array"
     ]
    }
   ],
   "source": [
    "#How do you overcome this?\n",
    "\n",
    "# experiment_classes.index(394)\n",
    "original_image = experiment_images[0]\n",
    "\n",
    "x = image.img_to_array(original_image)\n",
    "\n",
    "x = np.expand_dims(x, axis=0)\n",
    "x = preprocess_input(x)\n",
    "preds = model.predict(x)\n",
    "print(\" \")\n",
    "print(np.argmax(preds.flatten()))"
   ]
  },
  {
   "cell_type": "markdown",
   "metadata": {
    "id": "MBzyfAVpveBs"
   },
   "source": [
    "WideResNet"
   ]
  },
  {
   "cell_type": "code",
   "execution_count": null,
   "metadata": {
    "colab": {
     "base_uri": "https://localhost:8080/"
    },
    "executionInfo": {
     "elapsed": 217,
     "status": "ok",
     "timestamp": 1690381561119,
     "user": {
      "displayName": "Jared Ratto",
      "userId": "11020709345009787206"
     },
     "user_tz": -60
    },
    "id": "-mxKUkVwvLae",
    "outputId": "dd13cc98-20ab-4096-9a6c-2d0d26ee943e"
   },
   "outputs": [
    {
     "name": "stdout",
     "output_type": "stream",
     "text": [
      "/content/mnt/My Drive/Colab Notebooks/adversarial_examples/results/CIFAR10/WideResNet2810\n"
     ]
    }
   ],
   "source": [
    "%cd \"CIFAR10/WideResNet2810\""
   ]
  },
  {
   "cell_type": "code",
   "execution_count": null,
   "metadata": {
    "colab": {
     "base_uri": "https://localhost:8080/"
    },
    "executionInfo": {
     "elapsed": 350,
     "status": "ok",
     "timestamp": 1690290449849,
     "user": {
      "displayName": "Jared Ratto",
      "userId": "11020709345009787206"
     },
     "user_tz": -60
    },
    "id": "3gKmmDluI-z7",
    "outputId": "281e0fb2-0fe7-45f9-be34-178ac97791f6"
   },
   "outputs": [
    {
     "name": "stdout",
     "output_type": "stream",
     "text": [
      "0\n",
      "[8, 0, 0, 0, 0]\n",
      "[True, True, True, True, True]\n"
     ]
    }
   ],
   "source": [
    "# temp_dict = np.load('0_3.npy',allow_pickle=True)\n",
    "# temp_dict = np.expand_dims(temp_dict,axis=0)[0]\n",
    "# print(temp_dict[\"true_label\"])\n",
    "# print(temp_dict[\"adversarial_labels\"])\n",
    "# print(temp_dict[\"success_rate\"])"
   ]
  },
  {
   "cell_type": "code",
   "execution_count": null,
   "metadata": {
    "id": "Pw-hDWH7vhWU"
   },
   "outputs": [],
   "source": [
    "file_names = []\n",
    "adversarial = []\n",
    "adversarial_labels = []\n",
    "pareto_sol_count = []\n",
    "smallest_l0 = []\n",
    "biggest_l0 = []\n",
    "smallest_linf = []\n",
    "biggest_linf = []\n",
    "\n",
    "for i in os.listdir():\n",
    "  file_names.append(i)\n",
    "\n",
    "  temp_dict = np.load(i,allow_pickle=True)\n",
    "  temp_dict = np.expand_dims(temp_dict,axis=0)[0]\n",
    "\n",
    "  adversarial.append(any(temp_dict['success_rate']))\n",
    "  adversarial_labels.append(temp_dict['adversarial_labels'])\n",
    "\n",
    "  pareto_sol_count.append(len(temp_dict['front0_fitness']))\n",
    "\n",
    "  l0_temp_list = []\n",
    "  linf_temp_list = []\n",
    "  for i in temp_dict['front0_fitness']:\n",
    "    l0_temp_list.append(i[1])\n",
    "    linf_temp_list.append(i[2])\n",
    "  smallest_l0.append(min(l0_temp_list))\n",
    "  biggest_l0.append(max(l0_temp_list))\n",
    "  smallest_linf.append(min(linf_temp_list)[0])\n",
    "  biggest_linf.append(max(linf_temp_list)[0])"
   ]
  },
  {
   "cell_type": "code",
   "execution_count": null,
   "metadata": {
    "colab": {
     "base_uri": "https://localhost:8080/"
    },
    "executionInfo": {
     "elapsed": 215,
     "status": "ok",
     "timestamp": 1689858633735,
     "user": {
      "displayName": "Jared Ratto",
      "userId": "11020709345009787206"
     },
     "user_tz": -60
    },
    "id": "7C8xuBpJ518W",
    "outputId": "c378638f-f24b-4644-a63e-affd05b1a3e2"
   },
   "outputs": [
    {
     "name": "stdout",
     "output_type": "stream",
     "text": [
      "100 100 100 100 100 100 100\n"
     ]
    }
   ],
   "source": [
    "print(len(file_names),len(adversarial),len(pareto_sol_count),len(smallest_l0),len(biggest_l0),len(smallest_linf),len(biggest_linf))"
   ]
  },
  {
   "cell_type": "code",
   "execution_count": null,
   "metadata": {
    "id": "GCiF20bm4pFS"
   },
   "outputs": [],
   "source": [
    "pd_dict = {\"file_names\":file_names,\n",
    "           \"adversarial\":adversarial,\n",
    "           \"predicted_labels\":adversarial_labels,\n",
    "           \"pareto_sol_count\":pareto_sol_count,\n",
    "           \"smallest_l0\":smallest_l0,\n",
    "           \"biggest_l0\":biggest_l0,\n",
    "           \"smallest_linf\":smallest_linf,\n",
    "           \"biggest_linf\":biggest_linf}\n",
    "\n",
    "results_df = pd.DataFrame(pd_dict)\n",
    "results_df = results_df.set_index(\"file_names\")"
   ]
  },
  {
   "cell_type": "code",
   "execution_count": null,
   "metadata": {
    "id": "NsK4NI4m6T_Z"
   },
   "outputs": [],
   "source": [
    "results_df[\"true_class\"] = results_df.index.str[0]\n",
    "first_column = results_df.pop('true_class')\n",
    "results_df.insert(1, 'true_class', first_column)"
   ]
  },
  {
   "cell_type": "code",
   "execution_count": null,
   "metadata": {
    "colab": {
     "base_uri": "https://localhost:8080/",
     "height": 708
    },
    "executionInfo": {
     "elapsed": 196,
     "status": "ok",
     "timestamp": 1690382774773,
     "user": {
      "displayName": "Jared Ratto",
      "userId": "11020709345009787206"
     },
     "user_tz": -60
    },
    "id": "HV7EHG84qgoM",
    "outputId": "d1a8149e-c60e-47df-f0f3-12818990364a"
   },
   "outputs": [
    {
     "data": {
      "text/html": [
       "\n",
       "\n",
       "  <div id=\"df-858f6e51-7e21-4104-b319-3e8de8af711b\">\n",
       "    <div class=\"colab-df-container\">\n",
       "      <div>\n",
       "<style scoped>\n",
       "    .dataframe tbody tr th:only-of-type {\n",
       "        vertical-align: middle;\n",
       "    }\n",
       "\n",
       "    .dataframe tbody tr th {\n",
       "        vertical-align: top;\n",
       "    }\n",
       "\n",
       "    .dataframe thead th {\n",
       "        text-align: right;\n",
       "    }\n",
       "</style>\n",
       "<table border=\"1\" class=\"dataframe\">\n",
       "  <thead>\n",
       "    <tr style=\"text-align: right;\">\n",
       "      <th></th>\n",
       "      <th>adversarial</th>\n",
       "      <th>true_class</th>\n",
       "      <th>predicted_labels</th>\n",
       "      <th>pareto_sol_count</th>\n",
       "      <th>smallest_l0</th>\n",
       "      <th>biggest_l0</th>\n",
       "      <th>smallest_linf</th>\n",
       "      <th>biggest_linf</th>\n",
       "    </tr>\n",
       "    <tr>\n",
       "      <th>file_names</th>\n",
       "      <th></th>\n",
       "      <th></th>\n",
       "      <th></th>\n",
       "      <th></th>\n",
       "      <th></th>\n",
       "      <th></th>\n",
       "      <th></th>\n",
       "      <th></th>\n",
       "    </tr>\n",
       "  </thead>\n",
       "  <tbody>\n",
       "    <tr>\n",
       "      <th>3_0.npy</th>\n",
       "      <td>True</td>\n",
       "      <td>3</td>\n",
       "      <td>[3, 3, 3, 3, 3]</td>\n",
       "      <td>5</td>\n",
       "      <td>97</td>\n",
       "      <td>264</td>\n",
       "      <td>0.093794</td>\n",
       "      <td>0.097775</td>\n",
       "    </tr>\n",
       "    <tr>\n",
       "      <th>8_1.npy</th>\n",
       "      <td>True</td>\n",
       "      <td>8</td>\n",
       "      <td>[8, 8]</td>\n",
       "      <td>2</td>\n",
       "      <td>25</td>\n",
       "      <td>30</td>\n",
       "      <td>0.041823</td>\n",
       "      <td>0.045331</td>\n",
       "    </tr>\n",
       "    <tr>\n",
       "      <th>8_2.npy</th>\n",
       "      <td>True</td>\n",
       "      <td>8</td>\n",
       "      <td>[8, 8]</td>\n",
       "      <td>2</td>\n",
       "      <td>7</td>\n",
       "      <td>8</td>\n",
       "      <td>0.000000</td>\n",
       "      <td>0.004617</td>\n",
       "    </tr>\n",
       "    <tr>\n",
       "      <th>0_3.npy</th>\n",
       "      <td>True</td>\n",
       "      <td>0</td>\n",
       "      <td>[8, 0, 0, 0, 0]</td>\n",
       "      <td>5</td>\n",
       "      <td>23</td>\n",
       "      <td>423</td>\n",
       "      <td>0.018196</td>\n",
       "      <td>0.025676</td>\n",
       "    </tr>\n",
       "    <tr>\n",
       "      <th>6_4.npy</th>\n",
       "      <td>True</td>\n",
       "      <td>6</td>\n",
       "      <td>[2, 2, 6, 6, 6, 6]</td>\n",
       "      <td>6</td>\n",
       "      <td>105</td>\n",
       "      <td>450</td>\n",
       "      <td>0.214946</td>\n",
       "      <td>0.280249</td>\n",
       "    </tr>\n",
       "    <tr>\n",
       "      <th>6_5.npy</th>\n",
       "      <td>True</td>\n",
       "      <td>6</td>\n",
       "      <td>[3, 6, 6]</td>\n",
       "      <td>3</td>\n",
       "      <td>24</td>\n",
       "      <td>33</td>\n",
       "      <td>0.195683</td>\n",
       "      <td>0.219522</td>\n",
       "    </tr>\n",
       "    <tr>\n",
       "      <th>1_6.npy</th>\n",
       "      <td>True</td>\n",
       "      <td>1</td>\n",
       "      <td>[1, 1]</td>\n",
       "      <td>2</td>\n",
       "      <td>49</td>\n",
       "      <td>51</td>\n",
       "      <td>0.065306</td>\n",
       "      <td>0.096065</td>\n",
       "    </tr>\n",
       "    <tr>\n",
       "      <th>6_7.npy</th>\n",
       "      <td>True</td>\n",
       "      <td>6</td>\n",
       "      <td>[6, 6, 6]</td>\n",
       "      <td>3</td>\n",
       "      <td>24</td>\n",
       "      <td>26</td>\n",
       "      <td>0.162193</td>\n",
       "      <td>0.167111</td>\n",
       "    </tr>\n",
       "    <tr>\n",
       "      <th>3_8.npy</th>\n",
       "      <td>True</td>\n",
       "      <td>3</td>\n",
       "      <td>[3, 3, 3, 3, 3]</td>\n",
       "      <td>5</td>\n",
       "      <td>24</td>\n",
       "      <td>76</td>\n",
       "      <td>0.050580</td>\n",
       "      <td>0.085565</td>\n",
       "    </tr>\n",
       "    <tr>\n",
       "      <th>1_9.npy</th>\n",
       "      <td>True</td>\n",
       "      <td>1</td>\n",
       "      <td>[1, 1, 1, 1, 1, 1, 1]</td>\n",
       "      <td>7</td>\n",
       "      <td>25</td>\n",
       "      <td>50</td>\n",
       "      <td>0.041927</td>\n",
       "      <td>0.067941</td>\n",
       "    </tr>\n",
       "    <tr>\n",
       "      <th>0_10.npy</th>\n",
       "      <td>True</td>\n",
       "      <td>0</td>\n",
       "      <td>[0, 0]</td>\n",
       "      <td>2</td>\n",
       "      <td>108</td>\n",
       "      <td>114</td>\n",
       "      <td>0.054435</td>\n",
       "      <td>0.068199</td>\n",
       "    </tr>\n",
       "    <tr>\n",
       "      <th>9_11.npy</th>\n",
       "      <td>True</td>\n",
       "      <td>9</td>\n",
       "      <td>[9, 9, 9, 9]</td>\n",
       "      <td>4</td>\n",
       "      <td>194</td>\n",
       "      <td>207</td>\n",
       "      <td>0.156460</td>\n",
       "      <td>0.162854</td>\n",
       "    </tr>\n",
       "    <tr>\n",
       "      <th>5_12.npy</th>\n",
       "      <td>True</td>\n",
       "      <td>5</td>\n",
       "      <td>[5, 5, 5, 5, 5]</td>\n",
       "      <td>5</td>\n",
       "      <td>23</td>\n",
       "      <td>432</td>\n",
       "      <td>0.027707</td>\n",
       "      <td>0.046101</td>\n",
       "    </tr>\n",
       "    <tr>\n",
       "      <th>7_13.npy</th>\n",
       "      <td>True</td>\n",
       "      <td>7</td>\n",
       "      <td>[7, 7, 7, 7, 7, 7]</td>\n",
       "      <td>6</td>\n",
       "      <td>51</td>\n",
       "      <td>429</td>\n",
       "      <td>0.125782</td>\n",
       "      <td>0.136175</td>\n",
       "    </tr>\n",
       "    <tr>\n",
       "      <th>9_14.npy</th>\n",
       "      <td>True</td>\n",
       "      <td>9</td>\n",
       "      <td>[9, 9, 9, 9, 9]</td>\n",
       "      <td>5</td>\n",
       "      <td>190</td>\n",
       "      <td>206</td>\n",
       "      <td>0.086359</td>\n",
       "      <td>0.126521</td>\n",
       "    </tr>\n",
       "    <tr>\n",
       "      <th>5_15.npy</th>\n",
       "      <td>True</td>\n",
       "      <td>5</td>\n",
       "      <td>[5, 5, 5, 5, 5, 5, 5]</td>\n",
       "      <td>7</td>\n",
       "      <td>48</td>\n",
       "      <td>70</td>\n",
       "      <td>0.041486</td>\n",
       "      <td>0.066422</td>\n",
       "    </tr>\n",
       "    <tr>\n",
       "      <th>7_16.npy</th>\n",
       "      <td>True</td>\n",
       "      <td>7</td>\n",
       "      <td>[7, 7, 7, 7, 7]</td>\n",
       "      <td>5</td>\n",
       "      <td>24</td>\n",
       "      <td>419</td>\n",
       "      <td>0.063356</td>\n",
       "      <td>0.074506</td>\n",
       "    </tr>\n",
       "    <tr>\n",
       "      <th>8_17.npy</th>\n",
       "      <td>True</td>\n",
       "      <td>8</td>\n",
       "      <td>[8, 8, 8]</td>\n",
       "      <td>3</td>\n",
       "      <td>92</td>\n",
       "      <td>98</td>\n",
       "      <td>0.090535</td>\n",
       "      <td>0.095433</td>\n",
       "    </tr>\n",
       "    <tr>\n",
       "      <th>6_18.npy</th>\n",
       "      <td>True</td>\n",
       "      <td>6</td>\n",
       "      <td>[2, 6, 6, 6, 6, 6]</td>\n",
       "      <td>6</td>\n",
       "      <td>197</td>\n",
       "      <td>424</td>\n",
       "      <td>0.281769</td>\n",
       "      <td>0.322452</td>\n",
       "    </tr>\n",
       "    <tr>\n",
       "      <th>7_19.npy</th>\n",
       "      <td>True</td>\n",
       "      <td>7</td>\n",
       "      <td>[7, 7]</td>\n",
       "      <td>2</td>\n",
       "      <td>24</td>\n",
       "      <td>25</td>\n",
       "      <td>0.045731</td>\n",
       "      <td>0.048357</td>\n",
       "    </tr>\n",
       "  </tbody>\n",
       "</table>\n",
       "</div>\n",
       "      <button class=\"colab-df-convert\" onclick=\"convertToInteractive('df-858f6e51-7e21-4104-b319-3e8de8af711b')\"\n",
       "              title=\"Convert this dataframe to an interactive table.\"\n",
       "              style=\"display:none;\">\n",
       "\n",
       "  <svg xmlns=\"http://www.w3.org/2000/svg\" height=\"24px\"viewBox=\"0 0 24 24\"\n",
       "       width=\"24px\">\n",
       "    <path d=\"M0 0h24v24H0V0z\" fill=\"none\"/>\n",
       "    <path d=\"M18.56 5.44l.94 2.06.94-2.06 2.06-.94-2.06-.94-.94-2.06-.94 2.06-2.06.94zm-11 1L8.5 8.5l.94-2.06 2.06-.94-2.06-.94L8.5 2.5l-.94 2.06-2.06.94zm10 10l.94 2.06.94-2.06 2.06-.94-2.06-.94-.94-2.06-.94 2.06-2.06.94z\"/><path d=\"M17.41 7.96l-1.37-1.37c-.4-.4-.92-.59-1.43-.59-.52 0-1.04.2-1.43.59L10.3 9.45l-7.72 7.72c-.78.78-.78 2.05 0 2.83L4 21.41c.39.39.9.59 1.41.59.51 0 1.02-.2 1.41-.59l7.78-7.78 2.81-2.81c.8-.78.8-2.07 0-2.86zM5.41 20L4 18.59l7.72-7.72 1.47 1.35L5.41 20z\"/>\n",
       "  </svg>\n",
       "      </button>\n",
       "\n",
       "\n",
       "\n",
       "    <div id=\"df-370bec8b-d85f-4245-b69a-af4a60a88fa1\">\n",
       "      <button class=\"colab-df-quickchart\" onclick=\"quickchart('df-370bec8b-d85f-4245-b69a-af4a60a88fa1')\"\n",
       "              title=\"Suggest charts.\"\n",
       "              style=\"display:none;\">\n",
       "\n",
       "<svg xmlns=\"http://www.w3.org/2000/svg\" height=\"24px\"viewBox=\"0 0 24 24\"\n",
       "     width=\"24px\">\n",
       "    <g>\n",
       "        <path d=\"M19 3H5c-1.1 0-2 .9-2 2v14c0 1.1.9 2 2 2h14c1.1 0 2-.9 2-2V5c0-1.1-.9-2-2-2zM9 17H7v-7h2v7zm4 0h-2V7h2v10zm4 0h-2v-4h2v4z\"/>\n",
       "    </g>\n",
       "</svg>\n",
       "      </button>\n",
       "    </div>\n",
       "\n",
       "<style>\n",
       "  .colab-df-quickchart {\n",
       "    background-color: #E8F0FE;\n",
       "    border: none;\n",
       "    border-radius: 50%;\n",
       "    cursor: pointer;\n",
       "    display: none;\n",
       "    fill: #1967D2;\n",
       "    height: 32px;\n",
       "    padding: 0 0 0 0;\n",
       "    width: 32px;\n",
       "  }\n",
       "\n",
       "  .colab-df-quickchart:hover {\n",
       "    background-color: #E2EBFA;\n",
       "    box-shadow: 0px 1px 2px rgba(60, 64, 67, 0.3), 0px 1px 3px 1px rgba(60, 64, 67, 0.15);\n",
       "    fill: #174EA6;\n",
       "  }\n",
       "\n",
       "  [theme=dark] .colab-df-quickchart {\n",
       "    background-color: #3B4455;\n",
       "    fill: #D2E3FC;\n",
       "  }\n",
       "\n",
       "  [theme=dark] .colab-df-quickchart:hover {\n",
       "    background-color: #434B5C;\n",
       "    box-shadow: 0px 1px 3px 1px rgba(0, 0, 0, 0.15);\n",
       "    filter: drop-shadow(0px 1px 2px rgba(0, 0, 0, 0.3));\n",
       "    fill: #FFFFFF;\n",
       "  }\n",
       "</style>\n",
       "\n",
       "    <script>\n",
       "      async function quickchart(key) {\n",
       "        const containerElement = document.querySelector('#' + key);\n",
       "        const charts = await google.colab.kernel.invokeFunction(\n",
       "            'suggestCharts', [key], {});\n",
       "      }\n",
       "    </script>\n",
       "\n",
       "      <script>\n",
       "\n",
       "function displayQuickchartButton(domScope) {\n",
       "  let quickchartButtonEl =\n",
       "    domScope.querySelector('#df-370bec8b-d85f-4245-b69a-af4a60a88fa1 button.colab-df-quickchart');\n",
       "  quickchartButtonEl.style.display =\n",
       "    google.colab.kernel.accessAllowed ? 'block' : 'none';\n",
       "}\n",
       "\n",
       "        displayQuickchartButton(document);\n",
       "      </script>\n",
       "      <style>\n",
       "    .colab-df-container {\n",
       "      display:flex;\n",
       "      flex-wrap:wrap;\n",
       "      gap: 12px;\n",
       "    }\n",
       "\n",
       "    .colab-df-convert {\n",
       "      background-color: #E8F0FE;\n",
       "      border: none;\n",
       "      border-radius: 50%;\n",
       "      cursor: pointer;\n",
       "      display: none;\n",
       "      fill: #1967D2;\n",
       "      height: 32px;\n",
       "      padding: 0 0 0 0;\n",
       "      width: 32px;\n",
       "    }\n",
       "\n",
       "    .colab-df-convert:hover {\n",
       "      background-color: #E2EBFA;\n",
       "      box-shadow: 0px 1px 2px rgba(60, 64, 67, 0.3), 0px 1px 3px 1px rgba(60, 64, 67, 0.15);\n",
       "      fill: #174EA6;\n",
       "    }\n",
       "\n",
       "    [theme=dark] .colab-df-convert {\n",
       "      background-color: #3B4455;\n",
       "      fill: #D2E3FC;\n",
       "    }\n",
       "\n",
       "    [theme=dark] .colab-df-convert:hover {\n",
       "      background-color: #434B5C;\n",
       "      box-shadow: 0px 1px 3px 1px rgba(0, 0, 0, 0.15);\n",
       "      filter: drop-shadow(0px 1px 2px rgba(0, 0, 0, 0.3));\n",
       "      fill: #FFFFFF;\n",
       "    }\n",
       "  </style>\n",
       "\n",
       "      <script>\n",
       "        const buttonEl =\n",
       "          document.querySelector('#df-858f6e51-7e21-4104-b319-3e8de8af711b button.colab-df-convert');\n",
       "        buttonEl.style.display =\n",
       "          google.colab.kernel.accessAllowed ? 'block' : 'none';\n",
       "\n",
       "        async function convertToInteractive(key) {\n",
       "          const element = document.querySelector('#df-858f6e51-7e21-4104-b319-3e8de8af711b');\n",
       "          const dataTable =\n",
       "            await google.colab.kernel.invokeFunction('convertToInteractive',\n",
       "                                                     [key], {});\n",
       "          if (!dataTable) return;\n",
       "\n",
       "          const docLinkHtml = 'Like what you see? Visit the ' +\n",
       "            '<a target=\"_blank\" href=https://colab.research.google.com/notebooks/data_table.ipynb>data table notebook</a>'\n",
       "            + ' to learn more about interactive tables.';\n",
       "          element.innerHTML = '';\n",
       "          dataTable['output_type'] = 'display_data';\n",
       "          await google.colab.output.renderOutput(dataTable, element);\n",
       "          const docLink = document.createElement('div');\n",
       "          docLink.innerHTML = docLinkHtml;\n",
       "          element.appendChild(docLink);\n",
       "        }\n",
       "      </script>\n",
       "    </div>\n",
       "  </div>\n"
      ],
      "text/plain": [
       "            adversarial true_class       predicted_labels  pareto_sol_count  \\\n",
       "file_names                                                                    \n",
       "3_0.npy            True          3        [3, 3, 3, 3, 3]                 5   \n",
       "8_1.npy            True          8                 [8, 8]                 2   \n",
       "8_2.npy            True          8                 [8, 8]                 2   \n",
       "0_3.npy            True          0        [8, 0, 0, 0, 0]                 5   \n",
       "6_4.npy            True          6     [2, 2, 6, 6, 6, 6]                 6   \n",
       "6_5.npy            True          6              [3, 6, 6]                 3   \n",
       "1_6.npy            True          1                 [1, 1]                 2   \n",
       "6_7.npy            True          6              [6, 6, 6]                 3   \n",
       "3_8.npy            True          3        [3, 3, 3, 3, 3]                 5   \n",
       "1_9.npy            True          1  [1, 1, 1, 1, 1, 1, 1]                 7   \n",
       "0_10.npy           True          0                 [0, 0]                 2   \n",
       "9_11.npy           True          9           [9, 9, 9, 9]                 4   \n",
       "5_12.npy           True          5        [5, 5, 5, 5, 5]                 5   \n",
       "7_13.npy           True          7     [7, 7, 7, 7, 7, 7]                 6   \n",
       "9_14.npy           True          9        [9, 9, 9, 9, 9]                 5   \n",
       "5_15.npy           True          5  [5, 5, 5, 5, 5, 5, 5]                 7   \n",
       "7_16.npy           True          7        [7, 7, 7, 7, 7]                 5   \n",
       "8_17.npy           True          8              [8, 8, 8]                 3   \n",
       "6_18.npy           True          6     [2, 6, 6, 6, 6, 6]                 6   \n",
       "7_19.npy           True          7                 [7, 7]                 2   \n",
       "\n",
       "            smallest_l0  biggest_l0  smallest_linf  biggest_linf  \n",
       "file_names                                                        \n",
       "3_0.npy              97         264       0.093794      0.097775  \n",
       "8_1.npy              25          30       0.041823      0.045331  \n",
       "8_2.npy               7           8       0.000000      0.004617  \n",
       "0_3.npy              23         423       0.018196      0.025676  \n",
       "6_4.npy             105         450       0.214946      0.280249  \n",
       "6_5.npy              24          33       0.195683      0.219522  \n",
       "1_6.npy              49          51       0.065306      0.096065  \n",
       "6_7.npy              24          26       0.162193      0.167111  \n",
       "3_8.npy              24          76       0.050580      0.085565  \n",
       "1_9.npy              25          50       0.041927      0.067941  \n",
       "0_10.npy            108         114       0.054435      0.068199  \n",
       "9_11.npy            194         207       0.156460      0.162854  \n",
       "5_12.npy             23         432       0.027707      0.046101  \n",
       "7_13.npy             51         429       0.125782      0.136175  \n",
       "9_14.npy            190         206       0.086359      0.126521  \n",
       "5_15.npy             48          70       0.041486      0.066422  \n",
       "7_16.npy             24         419       0.063356      0.074506  \n",
       "8_17.npy             92          98       0.090535      0.095433  \n",
       "6_18.npy            197         424       0.281769      0.322452  \n",
       "7_19.npy             24          25       0.045731      0.048357  "
      ]
     },
     "execution_count": 37,
     "metadata": {},
     "output_type": "execute_result"
    }
   ],
   "source": [
    "results_df.head(20)"
   ]
  },
  {
   "cell_type": "code",
   "execution_count": null,
   "metadata": {
    "colab": {
     "base_uri": "https://localhost:8080/",
     "height": 484
    },
    "executionInfo": {
     "elapsed": 357,
     "status": "ok",
     "timestamp": 1689622047246,
     "user": {
      "displayName": "Jared Ratto",
      "userId": "11020709345009787206"
     },
     "user_tz": -60
    },
    "id": "ivd1wLBs8CQK",
    "outputId": "65d9781a-bfc7-4d53-9609-d570d00749f5"
   },
   "outputs": [
    {
     "data": {
      "text/plain": [
       "(array([13.,  0., 26.,  0., 21.,  0., 18.,  0., 13.,  9.]),\n",
       " array([2. , 2.5, 3. , 3.5, 4. , 4.5, 5. , 5.5, 6. , 6.5, 7. ]),\n",
       " <BarContainer object of 10 artists>)"
      ]
     },
     "execution_count": 9,
     "metadata": {},
     "output_type": "execute_result"
    },
    {
     "data": {
      "image/png": "[encoded data removed]",
      "text/plain": [
       "<Figure size 640x480 with 1 Axes>"
      ]
     },
     "metadata": {},
     "output_type": "display_data"
    }
   ],
   "source": [
    "plt.hist(results_df[\"pareto_sol_count\"], bins = 10)\n",
    "# this is a very good start for the analysis!\n",
    "# I really like Colab's interactive tools with pd df's\n",
    "## Ideas:\n",
    "## Try to make target class its own column, and then iterator the index\n",
    "## I can make another df with these grouped by for each target class'\n",
    "# But why is l_inf ever negative? Mutation and SBX are bounded. Look at every way that it could change in the functions\n",
    "# To verify if these results are good, plot out a few images and verify that they are adversarial"
   ]
  },
  {
   "cell_type": "code",
   "execution_count": null,
   "metadata": {
    "id": "ojw1HcVXuJnf"
   },
   "outputs": [],
   "source": [
    "# testing out just one\n",
    "test_npy = np.load(\"0_98.npy\",allow_pickle=True)\n",
    "test_npy = np.expand_dims(test_npy,axis=0)[0]"
   ]
  },
  {
   "cell_type": "code",
   "execution_count": null,
   "metadata": {
    "colab": {
     "base_uri": "https://localhost:8080/"
    },
    "executionInfo": {
     "elapsed": 6,
     "status": "ok",
     "timestamp": 1689413279336,
     "user": {
      "displayName": "Jared Ratto",
      "userId": "11020709345009787206"
     },
     "user_tz": -60
    },
    "id": "sxC53nQP4CB2",
    "outputId": "01151c04-beec-4146-be18-92b5f0c330a1"
   },
   "outputs": [
    {
     "data": {
      "text/plain": [
       "True"
      ]
     },
     "execution_count": 34,
     "metadata": {},
     "output_type": "execute_result"
    }
   ],
   "source": [
    "any(test_npy['success_rate'])"
   ]
  },
  {
   "cell_type": "code",
   "execution_count": null,
   "metadata": {
    "colab": {
     "base_uri": "https://localhost:8080/"
    },
    "executionInfo": {
     "elapsed": 2,
     "status": "ok",
     "timestamp": 1689412564273,
     "user": {
      "displayName": "Jared Ratto",
      "userId": "11020709345009787206"
     },
     "user_tz": -60
    },
    "id": "N-xBgCyiwSVY",
    "outputId": "472ed42d-08b5-4860-c7a0-4b934454c833"
   },
   "outputs": [
    {
     "name": "stdout",
     "output_type": "stream",
     "text": [
      "216\n",
      "211\n",
      "207\n",
      "203\n",
      "202\n",
      "199\n",
      "192\n"
     ]
    }
   ],
   "source": [
    "len(test_npy['front0_fitness'])\n",
    "linf_temp_list = []\n",
    "l0_temp_list = []\n",
    "for i in test_npy['front0_fitness']:\n",
    "  linf_temp_list.append(i[2])\n",
    "for i in test_npy['front0_fitness']:\n",
    "  l0_temp_list.append(i[1])\n",
    "smallest_linf = min(linf_temp_list)\n",
    "biggest_linf = max(linf_temp_list)\n",
    "smallest_0 = min(l0_temp_list)\n",
    "biggest_0 = max(l0_temp_list)"
   ]
  }
 ],
 "metadata": {
  "colab": {
   "authorship_tag": "ABX9TyMQgL2JFB9D7prySftLnkW+",
   "provenance": []
  },
  "kernelspec": {
   "display_name": "Python 3 (ipykernel)",
   "language": "python",
   "name": "python3"
  },
  "language_info": {
   "codemirror_mode": {
    "name": "ipython",
    "version": 3
   },
   "file_extension": ".py",
   "mimetype": "text/x-python",
   "name": "python",
   "nbconvert_exporter": "python",
   "pygments_lexer": "ipython3",
   "version": "3.9.12"
  }
 },
 "nbformat": 4,
 "nbformat_minor": 1
}
